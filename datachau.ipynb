{
 "cells": [
  {
   "cell_type": "code",
   "execution_count": null,
   "metadata": {},
   "outputs": [],
   "source": []
  },
  {
   "cell_type": "code",
   "execution_count": 2,
   "metadata": {},
   "outputs": [],
   "source": [
    "import numpy as np\n",
    "import pandas as pd"
   ]
  },
  {
   "cell_type": "code",
   "execution_count": 24,
   "metadata": {},
   "outputs": [],
   "source": [
    "data = pd.read_excel(\"masterdata1.xlsx\",sheet_name = \"Transaction\", engine='openpyxl')\n",
    "# data.query('Item_Group_Name == \"RM.Resin\" & Month == 2010')"
   ]
  },
  {
   "cell_type": "code",
   "execution_count": 25,
   "metadata": {},
   "outputs": [
    {
     "data": {
      "text/plain": [
       "(266431, 63)"
      ]
     },
     "execution_count": 25,
     "metadata": {},
     "output_type": "execute_result"
    }
   ],
   "source": [
    "data.shape"
   ]
  },
  {
   "cell_type": "code",
   "execution_count": 28,
   "metadata": {},
   "outputs": [
    {
     "data": {
      "text/plain": [
       "Index([          'Creator',             'Month',              'Week',\n",
       "                 'DocDate',        'CreateDate',             'WO_No',\n",
       "        'BatchTransfer_No',             'QC_No',            'Doc_No',\n",
       "                'Doc_Type',         'Warehouse',   'Item_Group_Code',\n",
       "         'Item_Group_Name',    'Sub_Group_Name',         'Item_Code',\n",
       "               'Item_Name',           'U_Width',          'U_Length',\n",
       "                 'U_Thick',        'U_ThickTor',           'U_Layer',\n",
       "          'U_Product_Line',       'U_Bond_Cert',    'U_Legal_Source',\n",
       "          'U_Wood_Species',        'U_Underlay',         'U_Overlay',\n",
       "               'U_Coating',   'U_SurfaceFinish',    'U_MoistureType',\n",
       "         'U_Quality_Grade',            'U_Note',     'U_U_LabelLogo',\n",
       "                  'Unit_1',              'IN_1',             'OUT_1',\n",
       "                  'Unit_2',              'IN_2',             'OUT_2',\n",
       "              'Department',          'Location',          'Comments',\n",
       "         'GL_Name/BP_Name',       'Unnamed: 43',       'Unnamed: 44',\n",
       "             'Unnamed: 45', 2020-08-01 00:00:00,       'Unnamed: 47',\n",
       "             'Unnamed: 48',       'Unnamed: 49',       'Unnamed: 50',\n",
       "             'Unnamed: 51',       'Unnamed: 52',       'Unnamed: 53',\n",
       "             'Unnamed: 54',       'Unnamed: 55',       'Unnamed: 56',\n",
       "             'Unnamed: 57',       'Unnamed: 58',       'Unnamed: 59',\n",
       "             'Unnamed: 60',       'Unnamed: 61',       'Unnamed: 62'],\n",
       "      dtype='object')"
      ]
     },
     "execution_count": 28,
     "metadata": {},
     "output_type": "execute_result"
    }
   ],
   "source": [
    "data.columns"
   ]
  },
  {
   "cell_type": "code",
   "execution_count": 30,
   "metadata": {},
   "outputs": [],
   "source": [
    "pd.options.display.max_rows = 100"
   ]
  },
  {
   "cell_type": "code",
   "execution_count": 31,
   "metadata": {},
   "outputs": [
    {
     "data": {
      "text/plain": [
       "Creator                  0.000000\n",
       "Month                    0.000000\n",
       "Week                     0.000000\n",
       "DocDate                  0.000000\n",
       "CreateDate               0.000000\n",
       "WO_No                   87.150144\n",
       "BatchTransfer_No        87.848636\n",
       "QC_No                   89.141654\n",
       "Doc_No                   0.000000\n",
       "Doc_Type                 0.008257\n",
       "Warehouse                0.000000\n",
       "Item_Group_Code          0.000000\n",
       "Item_Group_Name          0.000000\n",
       "Sub_Group_Name           8.747856\n",
       "Item_Code                0.000000\n",
       "Item_Name                0.000000\n",
       "U_Width                 22.990568\n",
       "U_Length                22.990568\n",
       "U_Thick                 23.087028\n",
       "U_ThickTor             100.000000\n",
       "U_Layer                 99.638180\n",
       "U_Product_Line          87.244728\n",
       "U_Bond_Cert             87.199688\n",
       "U_Legal_Source          97.400453\n",
       "U_Wood_Species          50.680664\n",
       "U_Underlay              99.970724\n",
       "U_Overlay               90.820137\n",
       "U_Coating               99.918178\n",
       "U_SurfaceFinish         99.570996\n",
       "U_MoistureType          54.288728\n",
       "U_Quality_Grade         46.089982\n",
       "U_Note                  95.844327\n",
       "U_U_LabelLogo           91.694285\n",
       "Unit_1                   0.003753\n",
       "IN_1                     0.000000\n",
       "OUT_1                    0.000000\n",
       "Unit_2                  36.786635\n",
       "IN_2                    36.720952\n",
       "OUT_2                   36.720952\n",
       "Department              85.243459\n",
       "Location                84.910540\n",
       "Comments                48.048463\n",
       "GL_Name/BP_Name         11.479145\n",
       "Unnamed: 43            100.000000\n",
       "Unnamed: 44            100.000000\n",
       "Unnamed: 45            100.000000\n",
       "2020-08-01 00:00:00    100.000000\n",
       "Unnamed: 47            100.000000\n",
       "Unnamed: 48            100.000000\n",
       "Unnamed: 49            100.000000\n",
       "Unnamed: 50            100.000000\n",
       "Unnamed: 51            100.000000\n",
       "Unnamed: 52            100.000000\n",
       "Unnamed: 53            100.000000\n",
       "Unnamed: 54            100.000000\n",
       "Unnamed: 55            100.000000\n",
       "Unnamed: 56            100.000000\n",
       "Unnamed: 57            100.000000\n",
       "Unnamed: 58            100.000000\n",
       "Unnamed: 59            100.000000\n",
       "Unnamed: 60            100.000000\n",
       "Unnamed: 61            100.000000\n",
       "Unnamed: 62            100.000000\n",
       "dtype: float64"
      ]
     },
     "execution_count": 31,
     "metadata": {},
     "output_type": "execute_result"
    }
   ],
   "source": [
    "data.isna().sum() / data.shape[0] * 100"
   ]
  },
  {
   "cell_type": "code",
   "execution_count": null,
   "metadata": {},
   "outputs": [],
   "source": []
  },
  {
   "cell_type": "code",
   "execution_count": 38,
   "metadata": {},
   "outputs": [],
   "source": [
    "columns = data.isnull().sum().loc[(data.isnull().sum() >= 266431).astype(int) == 0].index"
   ]
  },
  {
   "cell_type": "code",
   "execution_count": 43,
   "metadata": {},
   "outputs": [],
   "source": [
    "new_data = data[columns]"
   ]
  },
  {
   "cell_type": "code",
   "execution_count": 46,
   "metadata": {},
   "outputs": [
    {
     "data": {
      "text/plain": [
       "array(['Mix.Logo'], dtype=object)"
      ]
     },
     "execution_count": 46,
     "metadata": {},
     "output_type": "execute_result"
    }
   ],
   "source": [
    "new_data[~new_data['U_Underlay'].isna()].U_Underlay.unique()"
   ]
  },
  {
   "cell_type": "code",
   "execution_count": 47,
   "metadata": {},
   "outputs": [
    {
     "data": {
      "text/plain": [
       "(266431, 42)"
      ]
     },
     "execution_count": 47,
     "metadata": {},
     "output_type": "execute_result"
    }
   ],
   "source": [
    "new_data.shape"
   ]
  },
  {
   "cell_type": "code",
   "execution_count": null,
   "metadata": {},
   "outputs": [],
   "source": []
  }
 ],
 "metadata": {
  "kernelspec": {
   "display_name": "Python 3",
   "language": "python",
   "name": "python3"
  },
  "language_info": {
   "codemirror_mode": {
    "name": "ipython",
    "version": 3
   },
   "file_extension": ".py",
   "mimetype": "text/x-python",
   "name": "python",
   "nbconvert_exporter": "python",
   "pygments_lexer": "ipython3",
   "version": "3.8.5"
  }
 },
 "nbformat": 4,
 "nbformat_minor": 4
}
