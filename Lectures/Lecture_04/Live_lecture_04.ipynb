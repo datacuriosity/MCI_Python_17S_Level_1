{
 "cells": [
  {
   "cell_type": "markdown",
   "metadata": {},
   "source": [
    "### 1. Review"
   ]
  },
  {
   "cell_type": "markdown",
   "metadata": {},
   "source": [
    "**Data type**\n",
    "- Nummeric: int, float, complex\n",
    "- String: str, \"\", ''\n",
    "- Boolean: True/ False\n",
    "- Nonetype: None\n",
    "\n",
    "**Data structures**\n",
    "- List: [], list(), index, item\n",
    "- Tuple: (), tuple(), like list except immutable\n",
    "- Set: {}, set(), no duplicated values, non-index\n",
    "- Dictionary: {key: values}\n",
    "\n",
    "**Comparision**\n",
    "= : assignment\n"
   ]
  },
  {
   "cell_type": "code",
   "execution_count": null,
   "metadata": {},
   "outputs": [],
   "source": []
  }
 ],
 "metadata": {
  "kernelspec": {
   "display_name": "Python 3",
   "language": "python",
   "name": "python3"
  },
  "language_info": {
   "codemirror_mode": {
    "name": "ipython",
    "version": 3
   },
   "file_extension": ".py",
   "mimetype": "text/x-python",
   "name": "python",
   "nbconvert_exporter": "python",
   "pygments_lexer": "ipython3",
   "version": "3.9.1"
  }
 },
 "nbformat": 4,
 "nbformat_minor": 4
}
