{
 "cells": [
  {
   "cell_type": "markdown",
   "metadata": {},
   "source": [
    "# CONTROL FLOW: CÁCH MÀ CHƯƠNG TRÌNH CHẠY\n",
    "- 1. Sequence\n",
    "- 2. Loop\n",
    "- 3. Conditions"
   ]
  },
  {
   "cell_type": "markdown",
   "metadata": {},
   "source": [
    "## 1.1 Sequence: Thực hiện cái này đến cái kia\n",
    "## 1.2 Loop: iterable - cấu trúc dữ liệu có khả năng chứa nhiều phần tử\n",
    "- For:\n",
    "       1. Loop through item\n",
    "       -  1.2.1  for item in list:\n",
    "    business logic\n",
    "       -  1.2.2 for i in range(start, stop(exclusive), step):\n",
    "    business logic\n",
    "- While:\n",
    "    while condition(boolean):\n",
    "    "
   ]
  },
  {
   "cell_type": "code",
   "execution_count": 9,
   "metadata": {},
   "outputs": [
    {
     "name": "stdout",
     "output_type": "stream",
     "text": [
      "Item: 1\n",
      "Item: 2\n",
      "Item: 3\n",
      "Item: 4\n"
     ]
    }
   ],
   "source": [
    "li = [1,2,3,4]\n",
    "for item in li:\n",
    "    print(f'Item: {item}')\n",
    "    #print('Item:{}'.format(item))\n",
    "    #print('Item: %.2f' %item)"
   ]
  },
  {
   "cell_type": "code",
   "execution_count": 11,
   "metadata": {},
   "outputs": [
    {
     "data": {
      "text/plain": [
       "[0, 1, 2, 3, 4]"
      ]
     },
     "execution_count": 11,
     "metadata": {},
     "output_type": "execute_result"
    }
   ],
   "source": [
    "# range(start,stop[,steps])\n",
    "# đưa vào 1 item: stop\n",
    "# đừa\n",
    "list(range(5))"
   ]
  },
  {
   "cell_type": "code",
   "execution_count": 14,
   "metadata": {},
   "outputs": [
    {
     "data": {
      "text/plain": [
       "[0, 2, 4]"
      ]
     },
     "execution_count": 14,
     "metadata": {},
     "output_type": "execute_result"
    }
   ],
   "source": [
    "list(range(0,5,2))"
   ]
  },
  {
   "cell_type": "code",
   "execution_count": 15,
   "metadata": {},
   "outputs": [
    {
     "data": {
      "text/plain": [
       "4"
      ]
     },
     "execution_count": 15,
     "metadata": {},
     "output_type": "execute_result"
    }
   ],
   "source": [
    "len(li)"
   ]
  },
  {
   "cell_type": "code",
   "execution_count": 21,
   "metadata": {},
   "outputs": [
    {
     "name": "stdout",
     "output_type": "stream",
     "text": [
      "Items: 1\n",
      "Items: 2\n",
      "Items: 3\n",
      "Items: 4\n",
      "Items: 5\n",
      "Items: 10\n"
     ]
    }
   ],
   "source": [
    "li = [1,2,3,4,5,10]\n",
    "for index in range(0,len(li)):\n",
    "    print(f'Items: {li[index]}')"
   ]
  },
  {
   "cell_type": "code",
   "execution_count": 26,
   "metadata": {},
   "outputs": [
    {
     "name": "stdout",
     "output_type": "stream",
     "text": [
      "Item: 1\n",
      "Item: 2\n",
      "Item: 3\n",
      "Item: 4\n",
      "Item: 5\n",
      "Item: 10\n"
     ]
    }
   ],
   "source": [
    "index = 0\n",
    "while index <len(li):\n",
    "    print(f'Item: {li[index]}')\n",
    "    index = index + 1 #index +=1"
   ]
  },
  {
   "cell_type": "markdown",
   "metadata": {},
   "source": [
    "# Biết số lần lặp, dùng for() loop, không biết số lần lặp, dùng while() loop"
   ]
  },
  {
   "cell_type": "markdown",
   "metadata": {},
   "source": [
    "## Comprehension\n"
   ]
  },
  {
   "cell_type": "code",
   "execution_count": 28,
   "metadata": {},
   "outputs": [
    {
     "data": {
      "text/plain": [
       "[0, 1, 2, 3, 4, 5, 6, 7, 8, 9, 10]"
      ]
     },
     "execution_count": 28,
     "metadata": {},
     "output_type": "execute_result"
    }
   ],
   "source": [
    "li = list(range(0,11))"
   ]
  },
  {
   "cell_type": "code",
   "execution_count": 31,
   "metadata": {},
   "outputs": [
    {
     "data": {
      "text/plain": [
       "[0, 1, 8, 27, 64, 125, 216, 343, 512, 729, 1000]"
      ]
     },
     "execution_count": 31,
     "metadata": {},
     "output_type": "execute_result"
    }
   ],
   "source": [
    "[item **3 for item in li]"
   ]
  },
  {
   "cell_type": "code",
   "execution_count": 32,
   "metadata": {},
   "outputs": [
    {
     "data": {
      "text/plain": [
       "[0, 2, 4, 6, 8, 10]"
      ]
     },
     "execution_count": 32,
     "metadata": {},
     "output_type": "execute_result"
    }
   ],
   "source": [
    "[item for item in li if item %2 ==0]"
   ]
  },
  {
   "cell_type": "code",
   "execution_count": 33,
   "metadata": {},
   "outputs": [
    {
     "data": {
      "text/plain": [
       "[0, 1, 2, 9, 4, 25, 6, 49, 8, 81, 10]"
      ]
     },
     "execution_count": 33,
     "metadata": {},
     "output_type": "execute_result"
    }
   ],
   "source": [
    "[item if item%2 ==0 else item **2 for item in li]"
   ]
  },
  {
   "cell_type": "markdown",
   "metadata": {},
   "source": [
    "## 2 vòng For()"
   ]
  },
  {
   "cell_type": "code",
   "execution_count": 11,
   "metadata": {},
   "outputs": [
    {
     "name": "stdout",
     "output_type": "stream",
     "text": [
      "Item: 0\n",
      "Item: 1\n",
      "Item: 2\n",
      "Item: 3\n",
      "Item: 4\n",
      "Item: 5\n",
      "Item: 6\n",
      "Item: 7\n",
      "Item: 8\n",
      "Item: 9\n"
     ]
    }
   ],
   "source": [
    "li = list(range(0,10))\n",
    "# method 1\n",
    "#for item in li:\n",
    "    #print(f'Item: {item}')\n",
    "#method 2\n",
    "#for index in range(0,len(li)):\n",
    "    #print(f'Item: {li[index]}')\n",
    "#method 3:\n",
    "index = 0\n",
    "while index < len(li):\n",
    "    print(f'Item: {li[index]}')\n",
    "    index += 1\n",
    "    "
   ]
  },
  {
   "cell_type": "code",
   "execution_count": 30,
   "metadata": {},
   "outputs": [
    {
     "name": "stdout",
     "output_type": "stream",
     "text": [
      "\n",
      "Index of loop 1: 0\n",
      "::::::::::::::::::::::::::::::::::::::::::::::::::::::::::::::::::::::::::::::::::::::::::::::::::::\n",
      "Index of loop: 1\n",
      "Index of loop: 2\n",
      "Index of loop: 3\n",
      "Index of loop: 4\n",
      "Index of loop: 5\n",
      "Index of loop: 6\n",
      "Index of loop: 7\n",
      "Index of loop: 8\n",
      "Index of loop: 9\n",
      "\n",
      "Index of loop 1: 1\n",
      "::::::::::::::::::::::::::::::::::::::::::::::::::::::::::::::::::::::::::::::::::::::::::::::::::::\n",
      "Index of loop: 2\n",
      "Index of loop: 3\n",
      "Index of loop: 4\n",
      "Index of loop: 5\n",
      "Index of loop: 6\n",
      "Index of loop: 7\n",
      "Index of loop: 8\n",
      "Index of loop: 9\n",
      "\n",
      "Index of loop 1: 2\n",
      "::::::::::::::::::::::::::::::::::::::::::::::::::::::::::::::::::::::::::::::::::::::::::::::::::::\n",
      "Index of loop: 3\n",
      "Index of loop: 4\n",
      "Index of loop: 5\n",
      "Index of loop: 6\n",
      "Index of loop: 7\n",
      "Index of loop: 8\n",
      "Index of loop: 9\n",
      "\n",
      "Index of loop 1: 3\n",
      "::::::::::::::::::::::::::::::::::::::::::::::::::::::::::::::::::::::::::::::::::::::::::::::::::::\n",
      "Index of loop: 4\n",
      "Index of loop: 5\n",
      "Index of loop: 6\n",
      "Index of loop: 7\n",
      "Index of loop: 8\n",
      "Index of loop: 9\n",
      "\n",
      "Index of loop 1: 4\n",
      "::::::::::::::::::::::::::::::::::::::::::::::::::::::::::::::::::::::::::::::::::::::::::::::::::::\n",
      "Index of loop: 5\n",
      "Index of loop: 6\n",
      "Index of loop: 7\n",
      "Index of loop: 8\n",
      "Index of loop: 9\n",
      "\n",
      "Index of loop 1: 5\n",
      "::::::::::::::::::::::::::::::::::::::::::::::::::::::::::::::::::::::::::::::::::::::::::::::::::::\n",
      "Index of loop: 6\n",
      "Index of loop: 7\n",
      "Index of loop: 8\n",
      "Index of loop: 9\n",
      "\n",
      "Index of loop 1: 6\n",
      "::::::::::::::::::::::::::::::::::::::::::::::::::::::::::::::::::::::::::::::::::::::::::::::::::::\n",
      "Index of loop: 7\n",
      "Index of loop: 8\n",
      "Index of loop: 9\n",
      "\n",
      "Index of loop 1: 7\n",
      "::::::::::::::::::::::::::::::::::::::::::::::::::::::::::::::::::::::::::::::::::::::::::::::::::::\n",
      "Index of loop: 8\n",
      "Index of loop: 9\n",
      "\n",
      "Index of loop 1: 8\n",
      "::::::::::::::::::::::::::::::::::::::::::::::::::::::::::::::::::::::::::::::::::::::::::::::::::::\n",
      "Index of loop: 9\n",
      "\n",
      "Index of loop 1: 9\n",
      "::::::::::::::::::::::::::::::::::::::::::::::::::::::::::::::::::::::::::::::::::::::::::::::::::::\n"
     ]
    }
   ],
   "source": [
    "li = list(range(0,10))\n",
    "for idx_1 in range(len(li)):\n",
    "    print()\n",
    "    print(f'Index of loop 1: {idx_1}')\n",
    "    print (\":\" *100)\n",
    "    \n",
    "    for idx_2 in range(idx_1+1,len(li)):\n",
    "        print(f'Index of loop: {idx_2}')\n",
    "\n",
    "    "
   ]
  },
  {
   "cell_type": "code",
   "execution_count": 21,
   "metadata": {},
   "outputs": [
    {
     "data": {
      "text/plain": [
       "[0, 1, 2, 3, 4, 5, 6, 7, 8, 9]"
      ]
     },
     "execution_count": 21,
     "metadata": {},
     "output_type": "execute_result"
    }
   ],
   "source": []
  },
  {
   "cell_type": "code",
   "execution_count": 26,
   "metadata": {},
   "outputs": [
    {
     "name": "stdout",
     "output_type": "stream",
     "text": [
      "\n",
      "Index of loop 1: 0\n",
      "****************************************************************************************************\n",
      "Index of loop 2: 1\n",
      "Index of loop 2: 2\n",
      "Index of loop 2: 3\n",
      "Index of loop 2: 4\n",
      "Index of loop 2: 5\n",
      "Index of loop 2: 6\n",
      "Index of loop 2: 7\n",
      "Index of loop 2: 8\n",
      "Index of loop 2: 9\n",
      "\n",
      "Index of loop 1: 1\n",
      "****************************************************************************************************\n",
      "Index of loop 2: 2\n",
      "Index of loop 2: 3\n",
      "Index of loop 2: 4\n",
      "Index of loop 2: 5\n",
      "Index of loop 2: 6\n",
      "Index of loop 2: 7\n",
      "Index of loop 2: 8\n",
      "Index of loop 2: 9\n",
      "\n",
      "Index of loop 1: 2\n",
      "****************************************************************************************************\n",
      "Index of loop 2: 3\n",
      "Index of loop 2: 4\n",
      "Index of loop 2: 5\n",
      "Index of loop 2: 6\n",
      "Index of loop 2: 7\n",
      "Index of loop 2: 8\n",
      "Index of loop 2: 9\n",
      "\n",
      "Index of loop 1: 3\n",
      "****************************************************************************************************\n",
      "Index of loop 2: 4\n",
      "Index of loop 2: 5\n",
      "Index of loop 2: 6\n",
      "Index of loop 2: 7\n",
      "Index of loop 2: 8\n",
      "Index of loop 2: 9\n",
      "\n",
      "Index of loop 1: 4\n",
      "****************************************************************************************************\n",
      "Index of loop 2: 5\n",
      "Index of loop 2: 6\n",
      "Index of loop 2: 7\n",
      "Index of loop 2: 8\n",
      "Index of loop 2: 9\n",
      "\n",
      "Index of loop 1: 5\n",
      "****************************************************************************************************\n",
      "Index of loop 2: 6\n",
      "Index of loop 2: 7\n",
      "Index of loop 2: 8\n",
      "Index of loop 2: 9\n",
      "\n",
      "Index of loop 1: 6\n",
      "****************************************************************************************************\n",
      "Index of loop 2: 7\n",
      "Index of loop 2: 8\n",
      "Index of loop 2: 9\n",
      "\n",
      "Index of loop 1: 7\n",
      "****************************************************************************************************\n",
      "Index of loop 2: 8\n",
      "Index of loop 2: 9\n",
      "\n",
      "Index of loop 1: 8\n",
      "****************************************************************************************************\n",
      "Index of loop 2: 9\n",
      "\n",
      "Index of loop 1: 9\n",
      "****************************************************************************************************\n"
     ]
    }
   ],
   "source": [
    "li = list(range(0,10))\n",
    "for idx_1 in range(len(li)):\n",
    "    print()\n",
    "    print(f'Index of loop 1: {idx_1}')\n",
    "    \n",
    "    print('*'*100)\n",
    "    for idx_2 in range(idx_1+1,len(li)):\n",
    "        print(f'Index of loop 2: {idx_2}')\n",
    "        "
   ]
  },
  {
   "cell_type": "markdown",
   "metadata": {},
   "source": [
    "### If - Else  [CONDITION]"
   ]
  },
  {
   "cell_type": "markdown",
   "metadata": {},
   "source": [
    "if boolean condition:\n",
    "    business logic 1\n",
    "elif boolean_condition: - optional\n",
    "    business logic 2\n",
    "elif boolean_condition: - optional\n",
    "    business logic 3\n",
    "...\n",
    "else: -optional \n",
    "    business\n",
    "    "
   ]
  },
  {
   "cell_type": "code",
   "execution_count": 51,
   "metadata": {},
   "outputs": [
    {
     "name": "stdout",
     "output_type": "stream",
     "text": [
      "a equals b\n"
     ]
    }
   ],
   "source": [
    "a, b = 3,3\n",
    "if a>b:\n",
    "    print('a greater than b')\n",
    "elif a <b:\n",
    "    print('a lesser than b')\n",
    "else:\n",
    "    print('a equals b')"
   ]
  },
  {
   "cell_type": "code",
   "execution_count": null,
   "metadata": {},
   "outputs": [],
   "source": [
    "\n",
    "    "
   ]
  },
  {
   "cell_type": "code",
   "execution_count": 64,
   "metadata": {},
   "outputs": [
    {
     "data": {
      "text/plain": [
       "[99, 11, 901, 103, 1111]"
      ]
     },
     "execution_count": 64,
     "metadata": {},
     "output_type": "execute_result"
    }
   ],
   "source": [
    "li = [99,11,901,103,1111]\n",
    "li"
   ]
  },
  {
   "cell_type": "code",
   "execution_count": 67,
   "metadata": {},
   "outputs": [
    {
     "data": {
      "text/plain": [
       "1111"
      ]
     },
     "execution_count": 67,
     "metadata": {},
     "output_type": "execute_result"
    }
   ],
   "source": [
    "max_value = li[0] #99\n",
    "for item in li[1:]: #11 #901 #103 # 1111\n",
    "    if max_value<item: #1st no # 2nd yes --> 901 # 3rd no #4th YES, 1111, end \n",
    "        max_value = item\n",
    "max_value\n"
   ]
  },
  {
   "cell_type": "markdown",
   "metadata": {},
   "source": [
    "# 2. FUNCTION"
   ]
  },
  {
   "cell_type": "markdown",
   "metadata": {},
   "source": [
    "### Create a function to re-utilize again and again\n",
    "#### def function_name('argument1', 'argument',...): --> should not be capitalize\n",
    "        #### business logic\n",
    "        return result - optional"
   ]
  },
  {
   "cell_type": "code",
   "execution_count": 82,
   "metadata": {},
   "outputs": [],
   "source": [
    "def average(li):\n",
    "    sum_all = 0\n",
    "    if len(li) <1:\n",
    "        return sum_all, sum_all/len(li)\n",
    "    for item in li:\n",
    "        sum_all += item # avg = avg + item\n",
    "    \n",
    "    return sum_all, sum_all /len(li) # trả về 2 kết quả"
   ]
  },
  {
   "cell_type": "code",
   "execution_count": 45,
   "metadata": {},
   "outputs": [
    {
     "data": {
      "text/plain": [
       "(1490, 298.0)"
      ]
     },
     "execution_count": 45,
     "metadata": {},
     "output_type": "execute_result"
    }
   ],
   "source": [
    "var_1, var_2 = average([1,2,3,4,5]) # trả về 2kq --> gán vào 2 giá trị\n",
    "var_1, var_2"
   ]
  },
  {
   "cell_type": "code",
   "execution_count": 61,
   "metadata": {},
   "outputs": [],
   "source": [
    "def average(li):\n",
    "    sum_all = 0\n",
    "    if len(li) <1:\n",
    "        return sum_all, sum_all/len(li)\n",
    "    for item in li:\n",
    "        sum_all += item \n",
    "    return sum_all, sum_all/len(li)\n",
    "    "
   ]
  },
  {
   "cell_type": "code",
   "execution_count": 64,
   "metadata": {},
   "outputs": [
    {
     "data": {
      "text/plain": [
       "(15, 3.0)"
      ]
     },
     "execution_count": 64,
     "metadata": {},
     "output_type": "execute_result"
    }
   ],
   "source": [
    "a,b = average ([1,2,3,4,5]) \n",
    "a,b "
   ]
  },
  {
   "cell_type": "code",
   "execution_count": 63,
   "metadata": {},
   "outputs": [
    {
     "ename": "NameError",
     "evalue": "name 'sum_all' is not defined",
     "output_type": "error",
     "traceback": [
      "\u001b[1;31m---------------------------------------------------------------------------\u001b[0m",
      "\u001b[1;31mNameError\u001b[0m                                 Traceback (most recent call last)",
      "\u001b[1;32m<ipython-input-63-2a25feafb334>\u001b[0m in \u001b[0;36m<module>\u001b[1;34m()\u001b[0m\n\u001b[1;32m----> 1\u001b[1;33m \u001b[0msum_all\u001b[0m\u001b[1;33m\u001b[0m\u001b[1;33m\u001b[0m\u001b[0m\n\u001b[0m",
      "\u001b[1;31mNameError\u001b[0m: name 'sum_all' is not defined"
     ]
    }
   ],
   "source": [
    "sum_all"
   ]
  },
  {
   "cell_type": "code",
   "execution_count": 90,
   "metadata": {},
   "outputs": [
    {
     "data": {
      "text/plain": [
       "24"
      ]
     },
     "execution_count": 90,
     "metadata": {},
     "output_type": "execute_result"
    }
   ],
   "source": [
    "area (4,6)"
   ]
  },
  {
   "cell_type": "code",
   "execution_count": 91,
   "metadata": {},
   "outputs": [],
   "source": [
    "# Đầu vào là 1 số nguyên (int), trả về đáp án đó có phải là số nguyên tố?\n",
    "def prime_number(number):\n",
    "    return True/False\n"
   ]
  },
  {
   "cell_type": "code",
   "execution_count": 126,
   "metadata": {},
   "outputs": [],
   "source": [
    "def is_even(number):\n",
    "    try:\n",
    "        if number % 2 ==0:\n",
    "            return True\n",
    "        return False\n",
    "    except:\n",
    "        print('asf')"
   ]
  },
  {
   "cell_type": "code",
   "execution_count": 129,
   "metadata": {},
   "outputs": [
    {
     "name": "stdout",
     "output_type": "stream",
     "text": [
      "asf\n"
     ]
    }
   ],
   "source": [
    "is_even('b')"
   ]
  },
  {
   "cell_type": "code",
   "execution_count": 35,
   "metadata": {},
   "outputs": [],
   "source": [
    "li = [111,553,667,1,2,3,66,99,998,-1,-10,-1000]"
   ]
  },
  {
   "cell_type": "code",
   "execution_count": 17,
   "metadata": {},
   "outputs": [
    {
     "data": {
      "text/plain": [
       "[111, 553, 667, 1, 2, 3, 66, 99, 998]"
      ]
     },
     "execution_count": 17,
     "metadata": {},
     "output_type": "execute_result"
    }
   ],
   "source": [
    "li"
   ]
  },
  {
   "cell_type": "code",
   "execution_count": 36,
   "metadata": {},
   "outputs": [
    {
     "data": {
      "text/plain": [
       "-1000"
      ]
     },
     "execution_count": 36,
     "metadata": {},
     "output_type": "execute_result"
    }
   ],
   "source": [
    "min_value = li[0]\n",
    "for item in li[1:]:\n",
    "    if min_value>item:\n",
    "        min_value = item\n",
    "min_value\n"
   ]
  },
  {
   "cell_type": "code",
   "execution_count": 20,
   "metadata": {},
   "outputs": [
    {
     "data": {
      "text/plain": [
       "[553, 667, 1, 2, 3, 66, 99, 998]"
      ]
     },
     "execution_count": 20,
     "metadata": {},
     "output_type": "execute_result"
    }
   ],
   "source": [
    "li[1:]"
   ]
  },
  {
   "cell_type": "code",
   "execution_count": 30,
   "metadata": {},
   "outputs": [
    {
     "data": {
      "text/plain": [
       "998"
      ]
     },
     "execution_count": 30,
     "metadata": {},
     "output_type": "execute_result"
    }
   ],
   "source": [
    "max_value = li[0] #99\n",
    "for item in li[1:]: #11 #901 #103 # 1111\n",
    "    if max_value<item: #1st no # 2nd yes --> 901 # 3rd no #4th YES, 1111, end \n",
    "        max_value = item\n",
    "max_value\n"
   ]
  },
  {
   "cell_type": "code",
   "execution_count": 77,
   "metadata": {},
   "outputs": [],
   "source": [
    "def is_even(number):\n",
    "    try:\n",
    "        if number%2==0:\n",
    "            return True\n",
    "        return False\n",
    "    except:\n",
    "        print('Error AAAAAAA')\n",
    "    "
   ]
  },
  {
   "cell_type": "code",
   "execution_count": 59,
   "metadata": {},
   "outputs": [
    {
     "data": {
      "text/plain": [
       "3"
      ]
     },
     "execution_count": 59,
     "metadata": {},
     "output_type": "execute_result"
    }
   ],
   "source": [
    "b = int(li[0])\n",
    "c = int (li[1])\n",
    "b + c"
   ]
  },
  {
   "cell_type": "code",
   "execution_count": 73,
   "metadata": {},
   "outputs": [],
   "source": [
    "li= []"
   ]
  },
  {
   "cell_type": "code",
   "execution_count": 70,
   "metadata": {},
   "outputs": [
    {
     "name": "stdout",
     "output_type": "stream",
     "text": [
      "Enter a series of number: \n"
     ]
    },
    {
     "name": "stdin",
     "output_type": "stream",
     "text": [
      " 1111111111\n"
     ]
    }
   ],
   "source": [
    "\n",
    "\n"
   ]
  },
  {
   "cell_type": "code",
   "execution_count": 74,
   "metadata": {},
   "outputs": [
    {
     "name": "stdout",
     "output_type": "stream",
     "text": [
      "Enter a series of number: \n"
     ]
    },
    {
     "name": "stdin",
     "output_type": "stream",
     "text": [
      " 11223344\n"
     ]
    },
    {
     "name": "stdout",
     "output_type": "stream",
     "text": [
      "Sum all in the series:  20\n"
     ]
    }
   ],
   "source": [
    "\n"
   ]
  },
  {
   "cell_type": "code",
   "execution_count": 47,
   "metadata": {},
   "outputs": [
    {
     "ename": "TypeError",
     "evalue": "int() argument must be a string, a bytes-like object or a number, not 'list'",
     "output_type": "error",
     "traceback": [
      "\u001b[1;31m---------------------------------------------------------------------------\u001b[0m",
      "\u001b[1;31mTypeError\u001b[0m                                 Traceback (most recent call last)",
      "\u001b[1;32m<ipython-input-47-21f94c8a0e63>\u001b[0m in \u001b[0;36m<module>\u001b[1;34m()\u001b[0m\n\u001b[1;32m----> 1\u001b[1;33m \u001b[0msum\u001b[0m\u001b[1;33m(\u001b[0m\u001b[0mint\u001b[0m\u001b[1;33m(\u001b[0m\u001b[0mli\u001b[0m\u001b[1;33m[\u001b[0m\u001b[1;36m0\u001b[0m\u001b[1;33m:\u001b[0m\u001b[1;33m]\u001b[0m\u001b[1;33m)\u001b[0m\u001b[1;33m)\u001b[0m\u001b[1;33m\u001b[0m\u001b[1;33m\u001b[0m\u001b[0m\n\u001b[0m",
      "\u001b[1;31mTypeError\u001b[0m: int() argument must be a string, a bytes-like object or a number, not 'list'"
     ]
    }
   ],
   "source": [
    "sum(int(li[0:]))"
   ]
  },
  {
   "cell_type": "code",
   "execution_count": 1,
   "metadata": {},
   "outputs": [
    {
     "name": "stdout",
     "output_type": "stream",
     "text": [
      "Sum of all elements in given list:  74\n"
     ]
    }
   ],
   "source": [
    "\n",
    "# Python program to find sum of elements in list\n",
    "total = 0\n",
    " \n",
    "# creating a list\n",
    "list1 = [11, 5, 17, 18, 23] \n",
    " \n",
    "# Iterate each element in list\n",
    "# and add them in variale total\n",
    "for ele in range(0, len(list1)):\n",
    "    total = total + list1[ele]\n",
    " \n",
    "# printing total value\n",
    "print(\"Sum of all elements in given list: \", total)\n",
    "\n"
   ]
  },
  {
   "cell_type": "code",
   "execution_count": 12,
   "metadata": {},
   "outputs": [
    {
     "name": "stdout",
     "output_type": "stream",
     "text": [
      "The second largest number is :  8227\n"
     ]
    }
   ],
   "source": [
    "#FUNCTION TO FIND THE SECOND LARGEST NUMBER\n",
    "num_list = [0,5,9,8227,9999,2222]\n",
    "mx = max(num_list[0],num_list[1])\n",
    "second_mx = min(num_list[0],num_list[1])\n",
    "n = len(num_list)\n",
    "for i in range(2,n):\n",
    "    if num_list[i]>mx:\n",
    "        second_mx = mx\n",
    "        mx=num_list[i]\n",
    "    elif num_list[i]>second_mx and \\\n",
    "        mx!= num_list[i]:\n",
    "        second_mx= num_list[i]\n",
    "print(\"The second largest number is : \", second_mx)"
   ]
  },
  {
   "cell_type": "code",
   "execution_count": 27,
   "metadata": {},
   "outputs": [
    {
     "name": "stdout",
     "output_type": "stream",
     "text": [
      "The second largest number is :  8227\n"
     ]
    }
   ],
   "source": [
    "def second_largest(num_list):\n",
    "    mx = max(num_list[0],num_list[1])\n",
    "    second_mx = min(num_list[0],num_list[1])\n",
    "    n = len(num_list)\n",
    "    for i in range(2,n):\n",
    "        if num_list[i]>mx:\n",
    "            second_mx = mx\n",
    "            mx=num_list[i]\n",
    "        elif num_list[i]>second_mx and \\\n",
    "            mx!= num_list[i]:\n",
    "            second_mx= num_list[i]\n",
    "    return second_mx\n",
    "num_list = [0,5,9,822,9991,2222]\n",
    "print(\"The second largest number is : \", second_mx)"
   ]
  },
  {
   "cell_type": "code",
   "execution_count": 22,
   "metadata": {},
   "outputs": [
    {
     "data": {
      "text/plain": [
       "[0, 5, 9, 822, 999, 2222]"
      ]
     },
     "execution_count": 22,
     "metadata": {},
     "output_type": "execute_result"
    }
   ],
   "source": [
    "num_list"
   ]
  },
  {
   "cell_type": "code",
   "execution_count": 36,
   "metadata": {},
   "outputs": [],
   "source": [
    "def removeDuplicate(str):\n",
    "    s = set(str)\n",
    "    s=\"\".join(s)\n",
    "    print('Without order: ',s)\n",
    "    t = ''\n",
    "    for i in str:\n",
    "        if (i in t):\n",
    "            pass\n",
    "        else:\n",
    "            t = t+i\n",
    "            print('With order: ',t)\n",
    "    return      \n",
    "str= 'aaabbbccc'"
   ]
  },
  {
   "cell_type": "code",
   "execution_count": 37,
   "metadata": {},
   "outputs": [
    {
     "name": "stdout",
     "output_type": "stream",
     "text": [
      "Without order:  cab\n",
      "With order:  a\n",
      "With order:  ab\n",
      "With order:  abc\n"
     ]
    }
   ],
   "source": [
    "removeDuplicate(str)"
   ]
  },
  {
   "cell_type": "code",
   "execution_count": null,
   "metadata": {},
   "outputs": [],
   "source": []
  }
 ],
 "metadata": {
  "kernelspec": {
   "display_name": "Python 3",
   "language": "python",
   "name": "python3"
  },
  "language_info": {
   "codemirror_mode": {
    "name": "ipython",
    "version": 3
   },
   "file_extension": ".py",
   "mimetype": "text/x-python",
   "name": "python",
   "nbconvert_exporter": "python",
   "pygments_lexer": "ipython3",
   "version": "3.7.9"
  }
 },
 "nbformat": 4,
 "nbformat_minor": 4
}
