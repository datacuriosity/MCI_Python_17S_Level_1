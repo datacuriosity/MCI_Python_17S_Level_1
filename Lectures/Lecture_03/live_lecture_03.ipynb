{
 "cells": [
  {
   "cell_type": "markdown",
   "metadata": {},
   "source": [
    "### 1. Control Flow\n",
    "- Sequence: Tuan tu\n",
    "- Loop: Lap\n",
    "- Condition: Re nhanh"
   ]
  },
  {
   "cell_type": "markdown",
   "metadata": {},
   "source": [
    "### 1.1. Sequence"
   ]
  },
  {
   "cell_type": "code",
   "execution_count": 1,
   "metadata": {},
   "outputs": [
    {
     "name": "stdout",
     "output_type": "stream",
     "text": [
      "My name is Truong\n",
      "2\n",
      "1\n"
     ]
    }
   ],
   "source": [
    "print('My name is Truong')\n",
    "print(1+1)\n",
    "print(5%2)"
   ]
  },
  {
   "cell_type": "markdown",
   "metadata": {},
   "source": [
    "### 1.2. Loop: iterable\n",
    "- For: \n",
    "    1. Loop through item\n",
    "    ```\n",
    "    for item in list:\n",
    "      business logic\n",
    "      \n",
    "    ```\n",
    "    \n",
    "    2. Loop through index\n",
    "    ```\n",
    "    for i in range(start, stop(exclusive), step):\n",
    "        business logic\n",
    "    \n",
    "    ```\n",
    "    \n",
    "- While\n",
    "    ```\n",
    "    while condition(boolean):\n",
    "        business logic\n",
    "    ```"
   ]
  },
  {
   "cell_type": "code",
   "execution_count": 9,
   "metadata": {},
   "outputs": [
    {
     "name": "stdout",
     "output_type": "stream",
     "text": [
      "Item: 1.00\n",
      "Item: 2.00\n",
      "Item: 3.00\n",
      "Item: 4.00\n"
     ]
    }
   ],
   "source": [
    "li = [1, 2, 3, 4]\n",
    "for item in li:\n",
    "#     print(f'Item: {item}')\n",
    "#     print('Item: {}'.format(item))\n",
    "    print('Item: %.2f' %item)"
   ]
  },
  {
   "cell_type": "code",
   "execution_count": 19,
   "metadata": {},
   "outputs": [],
   "source": [
    "tupl = (1, 2, 3, 4)"
   ]
  },
  {
   "cell_type": "code",
   "execution_count": 23,
   "metadata": {},
   "outputs": [],
   "source": [
    "a, *c, d = tupl"
   ]
  },
  {
   "cell_type": "code",
   "execution_count": 26,
   "metadata": {},
   "outputs": [
    {
     "data": {
      "text/plain": [
       "4"
      ]
     },
     "execution_count": 26,
     "metadata": {},
     "output_type": "execute_result"
    }
   ],
   "source": [
    "d"
   ]
  },
  {
   "cell_type": "code",
   "execution_count": 24,
   "metadata": {},
   "outputs": [
    {
     "data": {
      "text/plain": [
       "[2, 3]"
      ]
     },
     "execution_count": 24,
     "metadata": {},
     "output_type": "execute_result"
    }
   ],
   "source": [
    "c"
   ]
  },
  {
   "cell_type": "code",
   "execution_count": 18,
   "metadata": {},
   "outputs": [
    {
     "data": {
      "text/plain": [
       "(1, 2, 3, 4, 5, 6, 7, 8, 9, 10)"
      ]
     },
     "execution_count": 18,
     "metadata": {},
     "output_type": "execute_result"
    }
   ],
   "source": [
    "tuple(range(1, 11))"
   ]
  },
  {
   "cell_type": "code",
   "execution_count": 32,
   "metadata": {},
   "outputs": [
    {
     "name": "stdout",
     "output_type": "stream",
     "text": [
      "Item: 1\n",
      "Item: 2\n",
      "Item: 3\n",
      "Item: 4\n"
     ]
    }
   ],
   "source": [
    "li = [1, 2, 3, 4]\n",
    "for index in range(0, len(li)):\n",
    "    print(f'Item: {li[index]}')"
   ]
  },
  {
   "cell_type": "code",
   "execution_count": 33,
   "metadata": {},
   "outputs": [
    {
     "name": "stdout",
     "output_type": "stream",
     "text": [
      "Item: 1\n",
      "Item: 4\n",
      "Item: 9\n",
      "Item: 16\n"
     ]
    }
   ],
   "source": [
    "li = [1, 2, 3, 4]\n",
    "for index in range(0, len(li)):\n",
    "    print(f'Item: {li[index]**2}')"
   ]
  },
  {
   "cell_type": "code",
   "execution_count": 35,
   "metadata": {},
   "outputs": [
    {
     "name": "stdout",
     "output_type": "stream",
     "text": [
      "Item: 1\n",
      "Item: 2\n",
      "Item: 3\n",
      "Item: 4\n"
     ]
    }
   ],
   "source": [
    "index = 0\n",
    "while index < len(li):\n",
    "    print(f'Item: {li[index]}')\n",
    "    index += 1"
   ]
  },
  {
   "cell_type": "code",
   "execution_count": 50,
   "metadata": {},
   "outputs": [
    {
     "name": "stdout",
     "output_type": "stream",
     "text": [
      "Item: 0\n",
      "Item: 1\n",
      "Item: 2\n",
      "Item: 3\n",
      "Item: 4\n"
     ]
    }
   ],
   "source": [
    "li = list(range(0, 11))\n",
    "a, index = 5, 0\n",
    "while li[index] < a:\n",
    "    print(f'Item: {li[index]}')\n",
    "    index += 1"
   ]
  },
  {
   "cell_type": "markdown",
   "metadata": {},
   "source": [
    "#### 1.2.1. Comprehension"
   ]
  },
  {
   "cell_type": "code",
   "execution_count": 51,
   "metadata": {},
   "outputs": [
    {
     "data": {
      "text/plain": [
       "[0, 1, 2, 3, 4, 5, 6, 7, 8, 9, 10]"
      ]
     },
     "execution_count": 51,
     "metadata": {},
     "output_type": "execute_result"
    }
   ],
   "source": [
    "li = list(range(0, 11))\n",
    "li"
   ]
  },
  {
   "cell_type": "code",
   "execution_count": 55,
   "metadata": {},
   "outputs": [
    {
     "data": {
      "text/plain": [
       "[0, 1, 4, 9, 16, 25, 36, 49, 64, 81, 100]"
      ]
     },
     "execution_count": 55,
     "metadata": {},
     "output_type": "execute_result"
    }
   ],
   "source": [
    "[item**2 for item in li]"
   ]
  },
  {
   "cell_type": "code",
   "execution_count": 56,
   "metadata": {},
   "outputs": [
    {
     "data": {
      "text/plain": [
       "[0, 2, 4, 6, 8, 10]"
      ]
     },
     "execution_count": 56,
     "metadata": {},
     "output_type": "execute_result"
    }
   ],
   "source": [
    "[item for item in li if item%2==0]"
   ]
  },
  {
   "cell_type": "code",
   "execution_count": 57,
   "metadata": {},
   "outputs": [
    {
     "data": {
      "text/plain": [
       "[0, 1, 2, 9, 4, 25, 6, 49, 8, 81, 10]"
      ]
     },
     "execution_count": 57,
     "metadata": {},
     "output_type": "execute_result"
    }
   ],
   "source": [
    "[item if item%2==0 else item**2 for item in li]"
   ]
  },
  {
   "cell_type": "code",
   "execution_count": 59,
   "metadata": {},
   "outputs": [
    {
     "data": {
      "text/plain": [
       "121"
      ]
     },
     "execution_count": 59,
     "metadata": {},
     "output_type": "execute_result"
    }
   ],
   "source": [
    "[item_1 * item_2 for item_1 in li for item_2 in li]"
   ]
  },
  {
   "cell_type": "code",
   "execution_count": 68,
   "metadata": {},
   "outputs": [
    {
     "name": "stdout",
     "output_type": "stream",
     "text": [
      "\n",
      "Index of loop 1: 0\n",
      "----------------------------------------------------------------------------------------------------\n",
      "Index of loop 2: 1\n",
      "Index of loop 2: 2\n",
      "Index of loop 2: 3\n",
      "Index of loop 2: 4\n",
      "Index of loop 2: 5\n",
      "Index of loop 2: 6\n",
      "Index of loop 2: 7\n",
      "Index of loop 2: 8\n",
      "Index of loop 2: 9\n",
      "\n",
      "Index of loop 1: 1\n",
      "----------------------------------------------------------------------------------------------------\n",
      "Index of loop 2: 2\n",
      "Index of loop 2: 3\n",
      "Index of loop 2: 4\n",
      "Index of loop 2: 5\n",
      "Index of loop 2: 6\n",
      "Index of loop 2: 7\n",
      "Index of loop 2: 8\n",
      "Index of loop 2: 9\n",
      "\n",
      "Index of loop 1: 2\n",
      "----------------------------------------------------------------------------------------------------\n",
      "Index of loop 2: 3\n",
      "Index of loop 2: 4\n",
      "Index of loop 2: 5\n",
      "Index of loop 2: 6\n",
      "Index of loop 2: 7\n",
      "Index of loop 2: 8\n",
      "Index of loop 2: 9\n",
      "\n",
      "Index of loop 1: 3\n",
      "----------------------------------------------------------------------------------------------------\n",
      "Index of loop 2: 4\n",
      "Index of loop 2: 5\n",
      "Index of loop 2: 6\n",
      "Index of loop 2: 7\n",
      "Index of loop 2: 8\n",
      "Index of loop 2: 9\n",
      "\n",
      "Index of loop 1: 4\n",
      "----------------------------------------------------------------------------------------------------\n",
      "Index of loop 2: 5\n",
      "Index of loop 2: 6\n",
      "Index of loop 2: 7\n",
      "Index of loop 2: 8\n",
      "Index of loop 2: 9\n",
      "\n",
      "Index of loop 1: 5\n",
      "----------------------------------------------------------------------------------------------------\n",
      "Index of loop 2: 6\n",
      "Index of loop 2: 7\n",
      "Index of loop 2: 8\n",
      "Index of loop 2: 9\n",
      "\n",
      "Index of loop 1: 6\n",
      "----------------------------------------------------------------------------------------------------\n",
      "Index of loop 2: 7\n",
      "Index of loop 2: 8\n",
      "Index of loop 2: 9\n",
      "\n",
      "Index of loop 1: 7\n",
      "----------------------------------------------------------------------------------------------------\n",
      "Index of loop 2: 8\n",
      "Index of loop 2: 9\n",
      "\n",
      "Index of loop 1: 8\n",
      "----------------------------------------------------------------------------------------------------\n",
      "Index of loop 2: 9\n",
      "\n",
      "Index of loop 1: 9\n",
      "----------------------------------------------------------------------------------------------------\n"
     ]
    }
   ],
   "source": [
    "li = list(range(0, 10))\n",
    "\n",
    "for idx_1 in range(len(li)):\n",
    "    print()\n",
    "    print(f'Index of loop 1: {idx_1}')\n",
    "    print('-'*100)\n",
    "    for idx_2 in range(idx_1 + 1, len(li)):\n",
    "        print(f'Index of loop 2: {idx_2}') "
   ]
  },
  {
   "cell_type": "code",
   "execution_count": 64,
   "metadata": {},
   "outputs": [
    {
     "data": {
      "text/plain": [
       "[0,\n",
       " 0,\n",
       " 0,\n",
       " 0,\n",
       " 0,\n",
       " 0,\n",
       " 0,\n",
       " 0,\n",
       " 0,\n",
       " 0,\n",
       " 2,\n",
       " 3,\n",
       " 4,\n",
       " 5,\n",
       " 6,\n",
       " 7,\n",
       " 8,\n",
       " 9,\n",
       " 10,\n",
       " 6,\n",
       " 8,\n",
       " 10,\n",
       " 12,\n",
       " 14,\n",
       " 16,\n",
       " 18,\n",
       " 20,\n",
       " 12,\n",
       " 15,\n",
       " 18,\n",
       " 21,\n",
       " 24,\n",
       " 27,\n",
       " 30,\n",
       " 20,\n",
       " 24,\n",
       " 28,\n",
       " 32,\n",
       " 36,\n",
       " 40,\n",
       " 30,\n",
       " 35,\n",
       " 40,\n",
       " 45,\n",
       " 50,\n",
       " 42,\n",
       " 48,\n",
       " 54,\n",
       " 60,\n",
       " 56,\n",
       " 63,\n",
       " 70,\n",
       " 72,\n",
       " 80,\n",
       " 90]"
      ]
     },
     "execution_count": 64,
     "metadata": {},
     "output_type": "execute_result"
    }
   ],
   "source": [
    "[li[idx_1]*li[idx_2] for idx_1 in range(len(li)) \n",
    " for idx_2 in range(idx_1+1, len(li))]"
   ]
  },
  {
   "cell_type": "markdown",
   "metadata": {},
   "source": [
    "### 1.3. Condition\n",
    "\n",
    "```\n",
    "if boolean_condition:\n",
    "    business\n",
    "elif boolean_condition: - optional\n",
    "    business\n",
    "elif boolean_condition: - optional\n",
    "...\n",
    "else: - optional\n",
    "    business\n",
    "```"
   ]
  },
  {
   "cell_type": "code",
   "execution_count": 72,
   "metadata": {},
   "outputs": [
    {
     "name": "stdout",
     "output_type": "stream",
     "text": [
      "a lesser than or equal to b\n"
     ]
    }
   ],
   "source": [
    "a, b = 3, 4\n",
    "if a > b:\n",
    "    print('a greater than b')\n",
    "else:\n",
    "    print('a lesser than or equal to b')"
   ]
  },
  {
   "cell_type": "code",
   "execution_count": 73,
   "metadata": {},
   "outputs": [],
   "source": [
    "a, b = 3, 4\n",
    "if a > b:\n",
    "    print('a greater than b')"
   ]
  },
  {
   "cell_type": "code",
   "execution_count": 75,
   "metadata": {},
   "outputs": [
    {
     "name": "stdout",
     "output_type": "stream",
     "text": [
      "a equal to b\n"
     ]
    }
   ],
   "source": [
    "a, b = 3, 3\n",
    "if a > b:\n",
    "    print('a greater than b')\n",
    "elif a < b:\n",
    "    print('a lesser than b')\n",
    "else:\n",
    "    print('a equal to b')"
   ]
  },
  {
   "cell_type": "code",
   "execution_count": 77,
   "metadata": {},
   "outputs": [],
   "source": [
    "# Tim gia tri lon nhat cua 1 list nhap vao\n",
    "li = [99, 88, 65, 101, 103, 204]"
   ]
  },
  {
   "cell_type": "code",
   "execution_count": 82,
   "metadata": {},
   "outputs": [
    {
     "data": {
      "text/plain": [
       "204"
      ]
     },
     "execution_count": 82,
     "metadata": {},
     "output_type": "execute_result"
    }
   ],
   "source": [
    "max_value = li[0] # 99\n",
    "for item in li[1: ]: #103\n",
    "    if max_value < item: # 103 < 204 -->True\n",
    "        max_value = item  # max_value = 204\n",
    "max_value"
   ]
  },
  {
   "cell_type": "markdown",
   "metadata": {},
   "source": [
    "### 2. Function \n",
    "```\n",
    "def sum_list(argument_1, argument_2 - optional):\n",
    "    business\n",
    "    return result - optional\n",
    "```"
   ]
  },
  {
   "cell_type": "code",
   "execution_count": 101,
   "metadata": {},
   "outputs": [],
   "source": [
    "def average(li):\n",
    "    sum_all = 0\n",
    "    if len(li) < 1:\n",
    "        return sum_all, 0\n",
    "    \n",
    "    for item in li:\n",
    "        sum_all += item\n",
    "        \n",
    "    return sum_all, sum_all / len(li)"
   ]
  },
  {
   "cell_type": "code",
   "execution_count": 108,
   "metadata": {},
   "outputs": [
    {
     "data": {
      "text/plain": [
       "10"
      ]
     },
     "execution_count": 108,
     "metadata": {},
     "output_type": "execute_result"
    }
   ],
   "source": [
    "all_1, _ = average([1, 2, 3, 4])\n",
    "all_1"
   ]
  },
  {
   "cell_type": "code",
   "execution_count": 111,
   "metadata": {},
   "outputs": [
    {
     "data": {
      "text/plain": [
       "81"
      ]
     },
     "execution_count": 111,
     "metadata": {},
     "output_type": "execute_result"
    }
   ],
   "source": [
    "square = lambda x : x**2\n",
    "square(9)"
   ]
  },
  {
   "cell_type": "code",
   "execution_count": 112,
   "metadata": {},
   "outputs": [],
   "source": [
    "area = lambda x, y : x*y"
   ]
  },
  {
   "cell_type": "code",
   "execution_count": 113,
   "metadata": {},
   "outputs": [
    {
     "data": {
      "text/plain": [
       "100"
      ]
     },
     "execution_count": 113,
     "metadata": {},
     "output_type": "execute_result"
    }
   ],
   "source": [
    "area(5, 20)"
   ]
  },
  {
   "cell_type": "code",
   "execution_count": 118,
   "metadata": {},
   "outputs": [],
   "source": [
    "def is_even(number):\n",
    "    if number % 2 == 0:\n",
    "        return True\n",
    "    return False"
   ]
  },
  {
   "cell_type": "code",
   "execution_count": 122,
   "metadata": {},
   "outputs": [],
   "source": [
    "# Dau vao la 1 so nguyen, do co phai so nguyen to hay khong\n",
    "\n",
    "def prime_number(number):\n",
    "    for i in range(2, int(number/2)):\n",
    "        if number % i == 0:\n",
    "            return False\n",
    "        \n",
    "    return True"
   ]
  },
  {
   "cell_type": "code",
   "execution_count": 123,
   "metadata": {},
   "outputs": [
    {
     "data": {
      "text/plain": [
       "True"
      ]
     },
     "execution_count": 123,
     "metadata": {},
     "output_type": "execute_result"
    }
   ],
   "source": [
    "prime_number(3)"
   ]
  },
  {
   "cell_type": "code",
   "execution_count": null,
   "metadata": {},
   "outputs": [],
   "source": []
  }
 ],
 "metadata": {
  "kernelspec": {
   "display_name": "Python 3",
   "language": "python",
   "name": "python3"
  },
  "language_info": {
   "codemirror_mode": {
    "name": "ipython",
    "version": 3
   },
   "file_extension": ".py",
   "mimetype": "text/x-python",
   "name": "python",
   "nbconvert_exporter": "python",
   "pygments_lexer": "ipython3",
   "version": "3.9.1"
  }
 },
 "nbformat": 4,
 "nbformat_minor": 4
}
